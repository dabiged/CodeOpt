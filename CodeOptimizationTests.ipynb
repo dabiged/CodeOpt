{
 "cells": [
  {
   "cell_type": "markdown",
   "metadata": {},
   "source": [
    "# Optimization Tests"
   ]
  },
  {
   "cell_type": "markdown",
   "metadata": {},
   "source": [
    "This notebook looks at basic methods of optimising code. All of these are implemented in compilers in various guises.\n",
    "\n",
    "This note book explores the speedups obtainable in  non-compiled code. The results should be viewed quantitatively, not qualitatively."
   ]
  },
  {
   "cell_type": "markdown",
   "metadata": {},
   "source": [
    "## Code Movement"
   ]
  },
  {
   "cell_type": "markdown",
   "metadata": {
    "heading_collapsed": true
   },
   "source": [
    "### Move code out of loop"
   ]
  },
  {
   "cell_type": "code",
   "execution_count": 11,
   "metadata": {
    "hidden": true
   },
   "outputs": [
    {
     "name": "stdout",
     "output_type": "stream",
     "text": [
      "45.1 ms ± 1.05 ms per loop (mean ± std. dev. of 7 runs, 10 loops each)\n"
     ]
    }
   ],
   "source": [
    "%%timeit\n",
    "accum=0\n",
    "for i in range(1000000):\n",
    "    item=10\n",
    "    accum+=item"
   ]
  },
  {
   "cell_type": "code",
   "execution_count": 12,
   "metadata": {
    "hidden": true
   },
   "outputs": [
    {
     "name": "stdout",
     "output_type": "stream",
     "text": [
      "40.6 ms ± 792 µs per loop (mean ± std. dev. of 7 runs, 10 loops each)\n"
     ]
    }
   ],
   "source": [
    "%%timeit\n",
    "accum=0\n",
    "item=10\n",
    "for i in range(1000000):\n",
    "    accum+=item"
   ]
  },
  {
   "cell_type": "markdown",
   "metadata": {
    "hidden": true
   },
   "source": [
    "A 10% speedup"
   ]
  },
  {
   "cell_type": "markdown",
   "metadata": {},
   "source": [
    "### Move code out of loop header"
   ]
  },
  {
   "cell_type": "markdown",
   "metadata": {
    "heading_collapsed": true
   },
   "source": [
    "#### Test 0: Preamble"
   ]
  },
  {
   "cell_type": "markdown",
   "metadata": {
    "hidden": true
   },
   "source": [
    "Build a long list to test with"
   ]
  },
  {
   "cell_type": "code",
   "execution_count": 31,
   "metadata": {
    "hidden": true
   },
   "outputs": [],
   "source": [
    "mylist=[]\n",
    "for i in range(1000000):\n",
    "    mylist.append(i)"
   ]
  },
  {
   "cell_type": "code",
   "execution_count": 55,
   "metadata": {
    "hidden": true
   },
   "outputs": [
    {
     "data": {
      "text/plain": [
       "1000000"
      ]
     },
     "execution_count": 55,
     "metadata": {},
     "output_type": "execute_result"
    }
   ],
   "source": [
    "len(mylist)"
   ]
  },
  {
   "cell_type": "markdown",
   "metadata": {
    "heading_collapsed": true
   },
   "source": [
    "#### Test 1. Run the version where len(mylist) is called each loop."
   ]
  },
  {
   "cell_type": "code",
   "execution_count": 51,
   "metadata": {
    "hidden": true
   },
   "outputs": [
    {
     "name": "stdout",
     "output_type": "stream",
     "text": [
      "117 ms ± 1.94 ms per loop (mean ± std. dev. of 7 runs, 10 loops each)\n"
     ]
    }
   ],
   "source": [
    "%%timeit\n",
    "accum=0\n",
    "i=0\n",
    "while i<len(mylist):\n",
    "    accum+=1\n",
    "    i+=1\n",
    "    "
   ]
  },
  {
   "cell_type": "markdown",
   "metadata": {
    "heading_collapsed": true
   },
   "source": [
    "#### Test 2. Run the version where len(mylist) is called once and referred to each loop"
   ]
  },
  {
   "cell_type": "code",
   "execution_count": 52,
   "metadata": {
    "hidden": true
   },
   "outputs": [
    {
     "name": "stdout",
     "output_type": "stream",
     "text": [
      "60.6 ms ± 385 µs per loop (mean ± std. dev. of 7 runs, 10 loops each)\n"
     ]
    }
   ],
   "source": [
    "%%timeit\n",
    "accum=0\n",
    "mylen=len(mylist)\n",
    "i=0\n",
    "while i<mylen:\n",
    "    accum+=1\n",
    "    i+=1"
   ]
  },
  {
   "cell_type": "markdown",
   "metadata": {
    "hidden": true
   },
   "source": [
    "This nearly halves the runtime of the loop. Clearly this is a massive improvement. What else could we do to improve this code."
   ]
  },
  {
   "cell_type": "markdown",
   "metadata": {
    "heading_collapsed": true
   },
   "source": [
    "#### Test 3. Use a for loop rather than a while loop (Note the a+=1 is left in to ensure the same number of operations per loop)."
   ]
  },
  {
   "cell_type": "code",
   "execution_count": 62,
   "metadata": {
    "hidden": true
   },
   "outputs": [
    {
     "name": "stdout",
     "output_type": "stream",
     "text": [
      "62.6 ms ± 544 µs per loop (mean ± std. dev. of 7 runs, 10 loops each)\n"
     ]
    }
   ],
   "source": [
    "%%timeit\n",
    "accum=0\n",
    "mylen=len(mylist) #dead code\n",
    "a=0               #dead code\n",
    "for i in range(len(mylist)):\n",
    "    accum+=1\n",
    "    a+=1          #dead code"
   ]
  },
  {
   "cell_type": "markdown",
   "metadata": {
    "hidden": true
   },
   "source": [
    "Note that the While loop is faster that the for loop."
   ]
  },
  {
   "cell_type": "markdown",
   "metadata": {
    "heading_collapsed": true
   },
   "source": [
    "#### Test 4. Use a for loop but remove the incrementer and other dead code."
   ]
  },
  {
   "cell_type": "code",
   "execution_count": 63,
   "metadata": {
    "hidden": true
   },
   "outputs": [
    {
     "name": "stdout",
     "output_type": "stream",
     "text": [
      "40.4 ms ± 578 µs per loop (mean ± std. dev. of 7 runs, 10 loops each)\n"
     ]
    }
   ],
   "source": [
    "%%timeit\n",
    "accum=0\n",
    "for i in range(len(mylist)):\n",
    "    accum+=1"
   ]
  },
  {
   "cell_type": "markdown",
   "metadata": {
    "hidden": true
   },
   "source": [
    "A logical speedup due to the halving of the number of operations in this calculation."
   ]
  },
  {
   "cell_type": "markdown",
   "metadata": {
    "heading_collapsed": true
   },
   "source": [
    "#### Test 5. Move the len(mylist) call out of the loop header."
   ]
  },
  {
   "cell_type": "code",
   "execution_count": 64,
   "metadata": {
    "hidden": true
   },
   "outputs": [
    {
     "name": "stdout",
     "output_type": "stream",
     "text": [
      "40.6 ms ± 345 µs per loop (mean ± std. dev. of 7 runs, 10 loops each)\n"
     ]
    }
   ],
   "source": [
    "%%timeit\n",
    "accum=0\n",
    "mylen=len(mylist)\n",
    "for i in range(mylen):\n",
    "    accum+=1"
   ]
  },
  {
   "cell_type": "markdown",
   "metadata": {
    "hidden": true
   },
   "source": [
    "No Change in speed."
   ]
  },
  {
   "cell_type": "markdown",
   "metadata": {},
   "source": [
    "## Strength Reduction"
   ]
  },
  {
   "cell_type": "markdown",
   "metadata": {},
   "source": [
    "### Change multiplications to additions"
   ]
  },
  {
   "cell_type": "markdown",
   "metadata": {},
   "source": [
    "Test 1. Convert a doubling to addition"
   ]
  },
  {
   "cell_type": "code",
   "execution_count": 73,
   "metadata": {},
   "outputs": [
    {
     "name": "stdout",
     "output_type": "stream",
     "text": [
      "66 ms ± 926 µs per loop (mean ± std. dev. of 7 runs, 10 loops each)\n"
     ]
    }
   ],
   "source": [
    "%%timeit\n",
    "accum=0\n",
    "for i in range(1000000):\n",
    "    accum+=i*2"
   ]
  },
  {
   "cell_type": "code",
   "execution_count": 74,
   "metadata": {},
   "outputs": [
    {
     "name": "stdout",
     "output_type": "stream",
     "text": [
      "63.8 ms ± 506 µs per loop (mean ± std. dev. of 7 runs, 10 loops each)\n"
     ]
    }
   ],
   "source": [
    "%%timeit\n",
    "accum=0\n",
    "for i in range(1000000):\n",
    "    accum+=i+i"
   ]
  },
  {
   "cell_type": "markdown",
   "metadata": {},
   "source": [
    "Addition seems much faster. Does this hold for higher level multiplications?"
   ]
  },
  {
   "cell_type": "markdown",
   "metadata": {},
   "source": [
    "Test 2. Convert a quadrupling to addition"
   ]
  },
  {
   "cell_type": "code",
   "execution_count": 75,
   "metadata": {},
   "outputs": [
    {
     "name": "stdout",
     "output_type": "stream",
     "text": [
      "65 ms ± 356 µs per loop (mean ± std. dev. of 7 runs, 10 loops each)\n"
     ]
    }
   ],
   "source": [
    "%%timeit\n",
    "accum=0\n",
    "for i in range(1000000):\n",
    "    accum+=i*4"
   ]
  },
  {
   "cell_type": "code",
   "execution_count": 76,
   "metadata": {},
   "outputs": [
    {
     "name": "stdout",
     "output_type": "stream",
     "text": [
      "106 ms ± 805 µs per loop (mean ± std. dev. of 7 runs, 10 loops each)\n"
     ]
    }
   ],
   "source": [
    "%%timeit\n",
    "accum=0\n",
    "for i in range(1000000):\n",
    "    accum+=i+i+i+i"
   ]
  },
  {
   "cell_type": "markdown",
   "metadata": {},
   "source": [
    "Loss of performance. Perhaps this is only works for multiplication by 2."
   ]
  },
  {
   "cell_type": "markdown",
   "metadata": {},
   "source": [
    "Test 3. Bit shift operations. You can replication multiplication by powers of two using the bit shift operator (<<), so which is faster?\n"
   ]
  },
  {
   "cell_type": "code",
   "execution_count": 77,
   "metadata": {},
   "outputs": [
    {
     "name": "stdout",
     "output_type": "stream",
     "text": [
      "198\n",
      "198\n"
     ]
    }
   ],
   "source": [
    "a=99\n",
    "print(a*2)\n",
    "print(a<<1)"
   ]
  },
  {
   "cell_type": "code",
   "execution_count": 78,
   "metadata": {},
   "outputs": [
    {
     "name": "stdout",
     "output_type": "stream",
     "text": [
      "65.2 ms ± 277 µs per loop (mean ± std. dev. of 7 runs, 10 loops each)\n"
     ]
    }
   ],
   "source": [
    "%%timeit\n",
    "accum=0\n",
    "for i in range(1000000):\n",
    "    accum+=i*2"
   ]
  },
  {
   "cell_type": "code",
   "execution_count": 79,
   "metadata": {},
   "outputs": [
    {
     "name": "stdout",
     "output_type": "stream",
     "text": [
      "63.5 ms ± 596 µs per loop (mean ± std. dev. of 7 runs, 10 loops each)\n"
     ]
    }
   ],
   "source": [
    "%%timeit\n",
    "accum=0\n",
    "for i in range(1000000):\n",
    "    accum+=i+i"
   ]
  },
  {
   "cell_type": "code",
   "execution_count": 80,
   "metadata": {},
   "outputs": [
    {
     "name": "stdout",
     "output_type": "stream",
     "text": [
      "71.2 ms ± 380 µs per loop (mean ± std. dev. of 7 runs, 10 loops each)\n"
     ]
    }
   ],
   "source": [
    "%%timeit\n",
    "accum=0\n",
    "for i in range(1000000):\n",
    "    accum+=i<<2"
   ]
  },
  {
   "cell_type": "markdown",
   "metadata": {},
   "source": [
    "Paradoxically, bit shift operations seem slower. Thank god, because they look horrible to read!"
   ]
  },
  {
   "cell_type": "markdown",
   "metadata": {},
   "source": [
    "## Loop Fusion"
   ]
  },
  {
   "cell_type": "markdown",
   "metadata": {},
   "source": [
    "Combine two identical loops into one loop."
   ]
  },
  {
   "cell_type": "code",
   "execution_count": 81,
   "metadata": {},
   "outputs": [
    {
     "name": "stdout",
     "output_type": "stream",
     "text": [
      "82.5 ms ± 715 µs per loop (mean ± std. dev. of 7 runs, 10 loops each)\n"
     ]
    }
   ],
   "source": [
    "%%timeit\n",
    "accum1=0\n",
    "accum2=0\n",
    "for i in range(1000000):\n",
    "    accum1+=1\n",
    "for i in range(1000000):\n",
    "    accum2+=1"
   ]
  },
  {
   "cell_type": "code",
   "execution_count": 82,
   "metadata": {},
   "outputs": [
    {
     "name": "stdout",
     "output_type": "stream",
     "text": [
      "66.3 ms ± 708 µs per loop (mean ± std. dev. of 7 runs, 10 loops each)\n"
     ]
    }
   ],
   "source": [
    "%%timeit\n",
    "accum1=0\n",
    "accum2=0\n",
    "for i in range(1000000):\n",
    "    accum1+=1\n",
    "    accum2+=1"
   ]
  },
  {
   "cell_type": "markdown",
   "metadata": {},
   "source": [
    "## Unswitching"
   ]
  },
  {
   "cell_type": "markdown",
   "metadata": {},
   "source": [
    "If a loop can be split into two simpler loops with logic outside do it."
   ]
  },
  {
   "cell_type": "code",
   "execution_count": 85,
   "metadata": {},
   "outputs": [
    {
     "name": "stdout",
     "output_type": "stream",
     "text": [
      "85.6 ms ± 579 µs per loop (mean ± std. dev. of 7 runs, 10 loops each)\n"
     ]
    }
   ],
   "source": [
    "%%timeit\n",
    "mylist1=[]\n",
    "mylist2=[]\n",
    "X=1\n",
    "Y=2\n",
    "\n",
    "for i in range(1000000):\n",
    "    if X <= Y:\n",
    "        mylist1.append(i)\n",
    "    else:\n",
    "        mylist2.append(i)"
   ]
  },
  {
   "cell_type": "code",
   "execution_count": 86,
   "metadata": {},
   "outputs": [
    {
     "name": "stdout",
     "output_type": "stream",
     "text": [
      "69.3 ms ± 341 µs per loop (mean ± std. dev. of 7 runs, 10 loops each)\n"
     ]
    }
   ],
   "source": [
    "%%timeit\n",
    "mylist1=[]\n",
    "mylist2=[]\n",
    "X=1\n",
    "Y=2\n",
    "\n",
    "if X <= Y:\n",
    "    for i in range(1000000):\n",
    "        mylist1.append(i)\n",
    "else:\n",
    "    for i in range(1000000):\n",
    "        mylist2.append(i)"
   ]
  },
  {
   "cell_type": "markdown",
   "metadata": {},
   "source": [
    "## Array Linearisation"
   ]
  },
  {
   "cell_type": "code",
   "execution_count": 90,
   "metadata": {},
   "outputs": [
    {
     "name": "stdout",
     "output_type": "stream",
     "text": [
      "25.3 µs ± 261 ns per loop (mean ± std. dev. of 7 runs, 10000 loops each)\n"
     ]
    }
   ],
   "source": [
    "%%timeit\n",
    "mylist=[]\n",
    "for i in range(20):\n",
    "    for j in range(20):\n",
    "        mylist.append(0)"
   ]
  },
  {
   "cell_type": "code",
   "execution_count": 91,
   "metadata": {},
   "outputs": [
    {
     "name": "stdout",
     "output_type": "stream",
     "text": [
      "22.7 µs ± 355 ns per loop (mean ± std. dev. of 7 runs, 10000 loops each)\n"
     ]
    }
   ],
   "source": [
    "%%timeit\n",
    "mylist=[]\n",
    "for i in range(400):\n",
    "    mylist.append(0)"
   ]
  },
  {
   "cell_type": "markdown",
   "metadata": {},
   "source": [
    "## Loop Unrolling"
   ]
  },
  {
   "cell_type": "code",
   "execution_count": 97,
   "metadata": {},
   "outputs": [
    {
     "name": "stdout",
     "output_type": "stream",
     "text": [
      "205 ms ± 2.56 ms per loop (mean ± std. dev. of 7 runs, 1 loop each)\n"
     ]
    }
   ],
   "source": [
    "%%timeit\n",
    "lista=[i for i in   range(1000000)]\n",
    "listb=[j*2 for j in range(1000000)]\n",
    "listc=[0 for k in   range(1000000)]\n",
    "for i in range(1000000):\n",
    "    listc[i]=lista[i]+listb[i]\n",
    "    "
   ]
  },
  {
   "cell_type": "code",
   "execution_count": 98,
   "metadata": {},
   "outputs": [
    {
     "name": "stdout",
     "output_type": "stream",
     "text": [
      "226 ms ± 1.98 ms per loop (mean ± std. dev. of 7 runs, 1 loop each)\n"
     ]
    }
   ],
   "source": [
    "%%timeit\n",
    "lista=[i for i in   range(1000000)]\n",
    "listb=[j*2 for j in range(1000000)]\n",
    "listc=[0 for k in   range(1000000)]\n",
    "for i in range(0,1000000,2):\n",
    "    listc[i]=lista[i]+listb[i]\n",
    "    listc[i+1]=lista[i+1]+listb[i+1]"
   ]
  },
  {
   "cell_type": "code",
   "execution_count": 103,
   "metadata": {},
   "outputs": [
    {
     "name": "stdout",
     "output_type": "stream",
     "text": [
      "245 ms ± 4.65 ms per loop (mean ± std. dev. of 7 runs, 1 loop each)\n"
     ]
    }
   ],
   "source": [
    "%%timeit\n",
    "lista=[i for i in   range(1000000)]\n",
    "listb=[j*2 for j in range(1000000)]\n",
    "listc=[0 for k in   range(1000000)]\n",
    "for i in range(0,1000000,4):\n",
    "    listc[i]=lista[i]+listb[i]\n",
    "    listc[i+1]=lista[i+1]+listb[i+1]\n",
    "    listc[i+2]=lista[i+2]+listb[i+2]\n",
    "    listc[i+3]=lista[i+3]+listb[i+3]"
   ]
  },
  {
   "cell_type": "code",
   "execution_count": 101,
   "metadata": {},
   "outputs": [
    {
     "name": "stdout",
     "output_type": "stream",
     "text": [
      "2.6 µs ± 47.3 ns per loop (mean ± std. dev. of 7 runs, 100000 loops each)\n"
     ]
    }
   ],
   "source": [
    "%%timeit\n",
    "lista=[i for i in   range(10)]\n",
    "listb=[j*2 for j in range(10)]\n",
    "listc=[0 for k in   range(10)]\n",
    "for i in range(10):\n",
    "    listc[i]=lista[i]+listb[i]\n",
    "    "
   ]
  },
  {
   "cell_type": "code",
   "execution_count": 102,
   "metadata": {},
   "outputs": [
    {
     "name": "stdout",
     "output_type": "stream",
     "text": [
      "2.33 µs ± 34.6 ns per loop (mean ± std. dev. of 7 runs, 100000 loops each)\n"
     ]
    }
   ],
   "source": [
    "%%timeit\n",
    "lista=[i for i in   range(10)]\n",
    "listb=[j*2 for j in range(10)]\n",
    "listc=[0 for k in   range(10)]\n",
    "\n",
    "listc[0]=lista[0]+listb[0]\n",
    "listc[1]=lista[1]+listb[1]\n",
    "listc[2]=lista[2]+listb[2]\n",
    "listc[3]=lista[3]+listb[3]\n",
    "listc[4]=lista[4]+listb[4]\n",
    "listc[5]=lista[5]+listb[5]\n",
    "listc[6]=lista[6]+listb[6]\n",
    "listc[7]=lista[7]+listb[7]\n",
    "listc[8]=lista[8]+listb[8]\n",
    "listc[9]=lista[9]+listb[9]"
   ]
  },
  {
   "cell_type": "markdown",
   "metadata": {},
   "source": [
    "## Test program - Leap year calculator"
   ]
  },
  {
   "cell_type": "markdown",
   "metadata": {},
   "source": [
    "Preamble:"
   ]
  },
  {
   "cell_type": "code",
   "execution_count": 143,
   "metadata": {},
   "outputs": [
    {
     "name": "stdout",
     "output_type": "stream",
     "text": [
      "The line_profiler extension is already loaded. To reload it, use:\n",
      "  %reload_ext line_profiler\n"
     ]
    }
   ],
   "source": [
    "%load_ext line_profiler"
   ]
  },
  {
   "cell_type": "markdown",
   "metadata": {},
   "source": [
    "A program to return all the leap years in a range of years.\n",
    "This version is written for read-ability. As you can see, a year is a leap year if it is divisible by 400, not divisible by 100 and divisible by 4."
   ]
  },
  {
   "cell_type": "code",
   "execution_count": 176,
   "metadata": {},
   "outputs": [],
   "source": [
    "def LeapYear1(startyear,endyear):\n",
    "    '''\n",
    "    int, int -> list\n",
    "    \n",
    "    Returns a list of leap years bound by start year and end year.\n",
    "    \n",
    "    >>> LeapYear1(1880,1884)\n",
    "    [1880, 1884]\n",
    "    >>> LeapYear1(2001,2003)\n",
    "    []\n",
    "    '''\n",
    "    LeapYears=[]\n",
    "    for i in range(startyear,endyear+1):\n",
    "        if i % 400 == 0:\n",
    "            LeapYears.append(i)\n",
    "        elif i % 100 ==0:\n",
    "            continue\n",
    "        elif i % 4 == 0:\n",
    "            LeapYears.append(i)\n",
    "        else:\n",
    "            continue\n",
    "    return LeapYears   \n",
    "\n",
    "Answer1=LeapYear1(0,2000000)"
   ]
  },
  {
   "cell_type": "code",
   "execution_count": 150,
   "metadata": {},
   "outputs": [
    {
     "name": "stdout",
     "output_type": "stream",
     "text": [
      "217 ms ± 9.72 ms per loop (mean ± std. dev. of 7 runs, 1 loop each)\n"
     ]
    }
   ],
   "source": [
    "%%timeit \n",
    "LeapYear1(0,2000000)"
   ]
  },
  {
   "cell_type": "code",
   "execution_count": 144,
   "metadata": {},
   "outputs": [],
   "source": [
    "%lprun -f LeapYear1 LeapYear1(0,2000000)"
   ]
  },
  {
   "cell_type": "markdown",
   "metadata": {},
   "source": [
    "You can see that our code is spending all its time in the for loop evaluating the modulos.\n",
    "\n",
    "Lets modify the code so that we first calculate which year divisible by four will be the first and last suspected leap years in our range, and loop over every 4th year therein, reducing the size of our loop by a factor of 4."
   ]
  },
  {
   "cell_type": "code",
   "execution_count": 183,
   "metadata": {},
   "outputs": [
    {
     "data": {
      "text/plain": [
       "True"
      ]
     },
     "execution_count": 183,
     "metadata": {},
     "output_type": "execute_result"
    }
   ],
   "source": [
    "def LeapYear2(startyear,endyear):\n",
    "    '''\n",
    "    int, int -> list\n",
    "    \n",
    "    Returns a list of leap years bound by start year and end year.\n",
    "    \n",
    "    >>> LeapYear2(1880,1884)\n",
    "    [1880, 1884]\n",
    "    >>> LeapYear2(2001,2003)\n",
    "    []\n",
    "    '''\n",
    "    LeapYears=[]\n",
    "    # StartLeapYear and endLeapYear are years divisible by 4 and initial guesses at what could be a leap year.\n",
    "    if startyear % 4 == 0:\n",
    "        startLeapyear=startyear\n",
    "    else:\n",
    "        startLeapyear=(startyear//4)*4\n",
    "        \n",
    "    if endyear % 4 == 0:\n",
    "        endLeapyear=endyear\n",
    "    else:\n",
    "        endLeapyear=(endyear//4)*4\n",
    "        \n",
    "    for i in range(startLeapyear,endLeapyear+1,4):\n",
    "        if i % 400 ==0:\n",
    "            LeapYears.append(i)\n",
    "        elif i % 100 == 0:\n",
    "            continue\n",
    "        else:\n",
    "            LeapYears.append(i)\n",
    "\n",
    "    return LeapYears   \n",
    "\n",
    "Answer2=LeapYear2(0,2000000)\n",
    "Answer2==Answer1"
   ]
  },
  {
   "cell_type": "code",
   "execution_count": 178,
   "metadata": {},
   "outputs": [
    {
     "name": "stdout",
     "output_type": "stream",
     "text": [
      "59.9 ms ± 561 µs per loop (mean ± std. dev. of 7 runs, 10 loops each)\n"
     ]
    }
   ],
   "source": [
    "%%timeit \n",
    "LeapYear2(0,2000000)"
   ]
  },
  {
   "cell_type": "markdown",
   "metadata": {},
   "source": [
    "Wow, a 3.6 fold speedup in runtime.\n",
    "Lets see if we can eek some additional gains from this."
   ]
  },
  {
   "cell_type": "code",
   "execution_count": 186,
   "metadata": {},
   "outputs": [],
   "source": [
    "%lprun -f LeapYear2 LeapYear2(0,2000000)"
   ]
  },
  {
   "cell_type": "markdown",
   "metadata": {},
   "source": [
    "We can see that our if statements are both getting hit every loop. \n",
    "Lets nest the if statements and see if this helps."
   ]
  },
  {
   "cell_type": "code",
   "execution_count": 188,
   "metadata": {},
   "outputs": [
    {
     "data": {
      "text/plain": [
       "True"
      ]
     },
     "execution_count": 188,
     "metadata": {},
     "output_type": "execute_result"
    }
   ],
   "source": [
    "def LeapYear3(startyear,endyear):\n",
    "    '''\n",
    "    int, int -> list\n",
    "    \n",
    "    Returns a list of leap years bound by start year and end year.\n",
    "    \n",
    "    >>> LeapYear3(1880,1884)\n",
    "    [1880, 1884]\n",
    "    >>> LeapYear3(2001,2003)\n",
    "    []\n",
    "    '''\n",
    "    LeapYears=[]\n",
    "    if startyear % 4 == 0:\n",
    "        startLeapyear=startyear\n",
    "    else:\n",
    "        startLeapyear=(startyear//4)*4\n",
    "        \n",
    "    if endyear % 4 == 0:\n",
    "        endLeapyear=endyear\n",
    "    else:\n",
    "        endLeapyear=(endyear//4)*4\n",
    "    \n",
    "    for i in range(startLeapyear,endLeapyear+1,4):\n",
    "        if i % 100 == 0:\n",
    "            if i % 400 ==0:\n",
    "                LeapYears.append(i)\n",
    "            else:\n",
    "                continue\n",
    "        else:\n",
    "            LeapYears.append(i)\n",
    "\n",
    "    return LeapYears   \n",
    "\n",
    "Answer3=LeapYear3(0,2000000)\n",
    "Answer3==Answer1"
   ]
  },
  {
   "cell_type": "code",
   "execution_count": 189,
   "metadata": {},
   "outputs": [
    {
     "name": "stdout",
     "output_type": "stream",
     "text": [
      "46.8 ms ± 1.52 ms per loop (mean ± std. dev. of 7 runs, 10 loops each)\n"
     ]
    }
   ],
   "source": [
    "%%timeit \n",
    "LeapYear3(0,2000000)"
   ]
  },
  {
   "cell_type": "markdown",
   "metadata": {},
   "source": [
    "Another 25% speed up."
   ]
  },
  {
   "cell_type": "code",
   "execution_count": 190,
   "metadata": {},
   "outputs": [],
   "source": [
    "%lprun -f LeapYear3 LeapYear3(0,2000000)"
   ]
  },
  {
   "cell_type": "markdown",
   "metadata": {},
   "source": [
    "## Failed Ideas."
   ]
  },
  {
   "cell_type": "markdown",
   "metadata": {},
   "source": [
    "Try using a string instead of a list up front.\n",
    "\n",
    "Spoiler alert: Casting strings to ints is REALLY expensive."
   ]
  },
  {
   "cell_type": "code",
   "execution_count": 229,
   "metadata": {},
   "outputs": [
    {
     "ename": "KeyboardInterrupt",
     "evalue": "",
     "output_type": "error",
     "traceback": [
      "\u001b[0;31m---------------------------------------------------------------------------\u001b[0m",
      "\u001b[0;31mKeyboardInterrupt\u001b[0m                         Traceback (most recent call last)",
      "\u001b[0;32m<ipython-input-229-814abf3a3845>\u001b[0m in \u001b[0;36m<module>\u001b[0;34m\u001b[0m\n\u001b[1;32m     32\u001b[0m     \u001b[0;32mreturn\u001b[0m \u001b[0;34m[\u001b[0m\u001b[0mint\u001b[0m\u001b[0;34m(\u001b[0m\u001b[0mx\u001b[0m\u001b[0;34m)\u001b[0m \u001b[0;32mfor\u001b[0m \u001b[0mx\u001b[0m \u001b[0;32min\u001b[0m \u001b[0mLeapYears\u001b[0m\u001b[0;34m.\u001b[0m\u001b[0msplit\u001b[0m\u001b[0;34m(\u001b[0m\u001b[0;34m)\u001b[0m\u001b[0;34m]\u001b[0m\u001b[0;34m\u001b[0m\u001b[0;34m\u001b[0m\u001b[0m\n\u001b[1;32m     33\u001b[0m \u001b[0;34m\u001b[0m\u001b[0m\n\u001b[0;32m---> 34\u001b[0;31m \u001b[0mAnswer4\u001b[0m\u001b[0;34m=\u001b[0m\u001b[0mLeapYear4\u001b[0m\u001b[0;34m(\u001b[0m\u001b[0;36m0\u001b[0m\u001b[0;34m,\u001b[0m\u001b[0;36m2000000\u001b[0m\u001b[0;34m)\u001b[0m\u001b[0;34m\u001b[0m\u001b[0;34m\u001b[0m\u001b[0m\n\u001b[0m\u001b[1;32m     35\u001b[0m \u001b[0mAnswer4\u001b[0m\u001b[0;34m==\u001b[0m\u001b[0mAnswer1\u001b[0m\u001b[0;34m\u001b[0m\u001b[0;34m\u001b[0m\u001b[0m\n",
      "\u001b[0;32m<ipython-input-229-814abf3a3845>\u001b[0m in \u001b[0;36mLeapYear4\u001b[0;34m(startyear, endyear)\u001b[0m\n\u001b[1;32m     28\u001b[0m                 \u001b[0;32mcontinue\u001b[0m\u001b[0;34m\u001b[0m\u001b[0;34m\u001b[0m\u001b[0m\n\u001b[1;32m     29\u001b[0m         \u001b[0;32melse\u001b[0m\u001b[0;34m:\u001b[0m\u001b[0;34m\u001b[0m\u001b[0;34m\u001b[0m\u001b[0m\n\u001b[0;32m---> 30\u001b[0;31m             \u001b[0mLeapYears\u001b[0m\u001b[0;34m=\u001b[0m\u001b[0mLeapYears\u001b[0m\u001b[0;34m+\u001b[0m\u001b[0;34m\" \"\u001b[0m\u001b[0;34m+\u001b[0m\u001b[0mstr\u001b[0m\u001b[0;34m(\u001b[0m\u001b[0mi\u001b[0m\u001b[0;34m)\u001b[0m\u001b[0;34m\u001b[0m\u001b[0;34m\u001b[0m\u001b[0m\n\u001b[0m\u001b[1;32m     31\u001b[0m \u001b[0;34m\u001b[0m\u001b[0m\n\u001b[1;32m     32\u001b[0m     \u001b[0;32mreturn\u001b[0m \u001b[0;34m[\u001b[0m\u001b[0mint\u001b[0m\u001b[0;34m(\u001b[0m\u001b[0mx\u001b[0m\u001b[0;34m)\u001b[0m \u001b[0;32mfor\u001b[0m \u001b[0mx\u001b[0m \u001b[0;32min\u001b[0m \u001b[0mLeapYears\u001b[0m\u001b[0;34m.\u001b[0m\u001b[0msplit\u001b[0m\u001b[0;34m(\u001b[0m\u001b[0;34m)\u001b[0m\u001b[0;34m]\u001b[0m\u001b[0;34m\u001b[0m\u001b[0;34m\u001b[0m\u001b[0m\n",
      "\u001b[0;31mKeyboardInterrupt\u001b[0m: "
     ]
    }
   ],
   "source": [
    "def LeapYear4(startyear,endyear):\n",
    "    '''\n",
    "    int, int -> list\n",
    "    \n",
    "    Returns a list of leap years bound by start year and end year.\n",
    "    \n",
    "    >>> LeapYear4(1880,1884)\n",
    "    [1880, 1884]\n",
    "    >>> LeapYear4(2001,2003)\n",
    "    []\n",
    "    '''\n",
    "    LeapYears=\"\"\n",
    "    if startyear % 4 == 0:\n",
    "        startLeapyear=startyear\n",
    "    else:\n",
    "        startLeapyear=(startyear//4)*4\n",
    "        \n",
    "    if endyear % 4 == 0:\n",
    "        endLeapyear=endyear\n",
    "    else:\n",
    "        endLeapyear=(endyear//4)*4\n",
    "    \n",
    "    for i in range(startLeapyear,endLeapyear+1,4):\n",
    "        if i % 100 == 0:\n",
    "            if i % 400 ==0:\n",
    "                LeapYears=LeapYears+\" \"+str(i)\n",
    "            else:\n",
    "                continue\n",
    "        else:\n",
    "            LeapYears=LeapYears+\" \"+str(i)\n",
    "\n",
    "    return [int(x) for x in LeapYears.split()]\n",
    "\n",
    "Answer4=LeapYear4(0,2000000)\n",
    "Answer4==Answer1"
   ]
  },
  {
   "cell_type": "code",
   "execution_count": 279,
   "metadata": {},
   "outputs": [],
   "source": [
    "%lprun -f LeapYear4 LeapYear4(0,2000000)"
   ]
  },
  {
   "cell_type": "code",
   "execution_count": null,
   "metadata": {},
   "outputs": [],
   "source": []
  },
  {
   "cell_type": "code",
   "execution_count": 209,
   "metadata": {},
   "outputs": [
    {
     "name": "stdout",
     "output_type": "stream",
     "text": [
      "48.9 ms ± 2.45 ms per loop (mean ± std. dev. of 7 runs, 10 loops each)\n"
     ]
    }
   ],
   "source": [
    "#%%timeit \n",
    "#LeapYear4(0,2000000)"
   ]
  },
  {
   "cell_type": "markdown",
   "metadata": {},
   "source": [
    "Why not build a list of every fourth year and remove the 100, 200, 300 ... years from the list...\n",
    "\n",
    "...because list.remove(x) is really slow."
   ]
  },
  {
   "cell_type": "code",
   "execution_count": 280,
   "metadata": {},
   "outputs": [
    {
     "data": {
      "text/plain": [
       "True"
      ]
     },
     "execution_count": 280,
     "metadata": {},
     "output_type": "execute_result"
    }
   ],
   "source": [
    "def LeapYear5(startyear,endyear):\n",
    "    '''\n",
    "    int, int -> list\n",
    "    \n",
    "    Returns a list of leap years bound by start year and end year.\n",
    "    \n",
    "    >>> LeapYear4(1880,1884)\n",
    "    [1880, 1884]\n",
    "    >>> LeapYear4(2001,2003)\n",
    "    []\n",
    "    '''\n",
    "\n",
    "    if startyear % 4 == 0:\n",
    "        startLeapyear=startyear\n",
    "    else:\n",
    "        startLeapyear=(startyear//4)*4\n",
    "        \n",
    "    if endyear % 4 == 0:\n",
    "        endLeapyear=endyear\n",
    "    else:\n",
    "        endLeapyear=(endyear//4)*4\n",
    "    \n",
    "    LeapYears = [ i for i in range(startLeapyear,endLeapyear+1,4)]\n",
    "    for i in range(0,endLeapyear,400):\n",
    "        LeapYears.remove(i+100)\n",
    "        LeapYears.remove(i+200)\n",
    "        LeapYears.remove(i+300)\n",
    "\n",
    "\n",
    "    return LeapYears\n",
    "\n",
    "Answer5=LeapYear5(0,2000000)\n",
    "Answer5==Answer1"
   ]
  },
  {
   "cell_type": "code",
   "execution_count": 281,
   "metadata": {},
   "outputs": [],
   "source": [
    "%lprun -f LeapYear5 LeapYear5(0,2000000)"
   ]
  },
  {
   "cell_type": "code",
   "execution_count": null,
   "metadata": {},
   "outputs": [],
   "source": []
  },
  {
   "cell_type": "code",
   "execution_count": null,
   "metadata": {},
   "outputs": [],
   "source": []
  },
  {
   "cell_type": "code",
   "execution_count": null,
   "metadata": {},
   "outputs": [],
   "source": []
  },
  {
   "cell_type": "code",
   "execution_count": null,
   "metadata": {},
   "outputs": [],
   "source": []
  }
 ],
 "metadata": {
  "kernelspec": {
   "display_name": "Python 3",
   "language": "python",
   "name": "python3"
  },
  "language_info": {
   "codemirror_mode": {
    "name": "ipython",
    "version": 3
   },
   "file_extension": ".py",
   "mimetype": "text/x-python",
   "name": "python",
   "nbconvert_exporter": "python",
   "pygments_lexer": "ipython3",
   "version": "3.8.2"
  }
 },
 "nbformat": 4,
 "nbformat_minor": 2
}
